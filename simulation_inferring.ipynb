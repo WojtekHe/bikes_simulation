{
 "cells": [
  {
   "cell_type": "code",
   "execution_count": 1,
   "metadata": {
    "ExecuteTime": {
     "end_time": "2020-04-25T11:25:48.109476Z",
     "start_time": "2020-04-25T11:25:46.922098Z"
    }
   },
   "outputs": [],
   "source": [
    "import pandas as pd\n",
    "from tqdm import tqdm"
   ]
  },
  {
   "cell_type": "code",
   "execution_count": 2,
   "metadata": {
    "ExecuteTime": {
     "end_time": "2020-04-25T11:25:48.140726Z",
     "start_time": "2020-04-25T11:25:48.109476Z"
    }
   },
   "outputs": [],
   "source": [
    "from src.model.city import City\n",
    "from src.simulation.simulation import Simulation, time_of_number_of_days\n",
    "from src.data_processing import bikes_scoring, station_changes, processing_constants"
   ]
  },
  {
   "cell_type": "code",
   "execution_count": 3,
   "metadata": {
    "ExecuteTime": {
     "end_time": "2020-04-25T11:25:48.953236Z",
     "start_time": "2020-04-25T11:25:48.140726Z"
    }
   },
   "outputs": [
    {
     "name": "stderr",
     "output_type": "stream",
     "text": [
      "simulating: 100%|████████████████████████| 2016/2016 [00:00<00:00, 2687.99it/s]\n"
     ]
    },
    {
     "data": {
      "text/plain": [
       "<src.simulation.simulation.Simulation at 0x9f75a520f0>"
      ]
     },
     "execution_count": 3,
     "metadata": {},
     "output_type": "execute_result"
    }
   ],
   "source": [
    "city = City.from_numbers(100, 10).assign_bikes_randomly()\n",
    "time = time_of_number_of_days(7)\n",
    "simulaiton = Simulation()\n",
    "\n",
    "simulaiton.simulate(city, time)"
   ]
  },
  {
   "cell_type": "code",
   "execution_count": 4,
   "metadata": {
    "ExecuteTime": {
     "end_time": "2020-04-25T11:25:49.015737Z",
     "start_time": "2020-04-25T11:25:48.953236Z"
    }
   },
   "outputs": [],
   "source": [
    "broken_bikes = simulaiton.get_breaking_bikes_data()\n",
    "trips_history = simulaiton.get_stations_data()"
   ]
  },
  {
   "cell_type": "code",
   "execution_count": 5,
   "metadata": {
    "ExecuteTime": {
     "end_time": "2020-04-25T11:25:53.706364Z",
     "start_time": "2020-04-25T11:25:49.015737Z"
    },
    "scrolled": false
   },
   "outputs": [
    {
     "name": "stderr",
     "output_type": "stream",
     "text": [
      "finding stations changes: 100%|████████████████| 10/10 [00:01<00:00,  6.14it/s]\n",
      "scoring bikes: 100%|███████████████████| 20150/20150 [00:02<00:00, 7124.77it/s]\n"
     ]
    }
   ],
   "source": [
    "scores = bikes_scoring.BikesScoring(station_changes.StationChanges(trips_history).find_stations_changes()).score_bikes()"
   ]
  },
  {
   "cell_type": "code",
   "execution_count": 7,
   "metadata": {
    "ExecuteTime": {
     "end_time": "2020-04-25T11:25:53.753238Z",
     "start_time": "2020-04-25T11:25:53.737613Z"
    }
   },
   "outputs": [],
   "source": [
    "def map_timestamp(time: int, aggregate_hours: int) -> int:\n",
    "    return int(time/aggregate_hours/12)"
   ]
  },
  {
   "cell_type": "code",
   "execution_count": 8,
   "metadata": {
    "ExecuteTime": {
     "end_time": "2020-04-25T11:25:53.784488Z",
     "start_time": "2020-04-25T11:25:53.753238Z"
    }
   },
   "outputs": [],
   "source": [
    "def aggregate_results(df: pd.DataFrame, aggregate_hours: int) -> pd.DataFrame:\n",
    "    df[\"time_group\"] = df[\"timestamp\"].apply(lambda x: int(x/aggregate_hours))\n",
    "    agg = scores.drop([\"timestamp\"], axis=1).groupby([\"bike_id\", \"time_group\"]).sum()\n",
    "    agg[\"total\"] = agg.plus - agg.minus\n",
    "    return agg"
   ]
  },
  {
   "cell_type": "code",
   "execution_count": 9,
   "metadata": {
    "ExecuteTime": {
     "end_time": "2020-04-25T11:25:54.487623Z",
     "start_time": "2020-04-25T11:25:53.784488Z"
    }
   },
   "outputs": [],
   "source": [
    "import seaborn as sns"
   ]
  },
  {
   "cell_type": "code",
   "execution_count": 10,
   "metadata": {
    "ExecuteTime": {
     "end_time": "2020-04-25T11:25:54.612626Z",
     "start_time": "2020-04-25T11:25:54.487623Z"
    }
   },
   "outputs": [],
   "source": [
    "aggregate_time = 24\n",
    "aggregates = aggregate_results(scores, aggregate_time)"
   ]
  },
  {
   "cell_type": "code",
   "execution_count": 11,
   "metadata": {
    "ExecuteTime": {
     "end_time": "2020-04-25T11:25:54.628251Z",
     "start_time": "2020-04-25T11:25:54.612626Z"
    }
   },
   "outputs": [
    {
     "data": {
      "text/plain": [
       "True"
      ]
     },
     "execution_count": 11,
     "metadata": {},
     "output_type": "execute_result"
    }
   ],
   "source": [
    "2 in broken_bikes.bike_id.values"
   ]
  },
  {
   "cell_type": "code",
   "execution_count": 12,
   "metadata": {
    "ExecuteTime": {
     "end_time": "2020-04-25T11:25:54.643879Z",
     "start_time": "2020-04-25T11:25:54.628251Z"
    }
   },
   "outputs": [
    {
     "data": {
      "text/plain": [
       "5    19.666667\n",
       "Name: timestamp, dtype: float64"
      ]
     },
     "execution_count": 12,
     "metadata": {},
     "output_type": "execute_result"
    }
   ],
   "source": [
    "broken_bikes[broken_bikes.bike_id==2].timestamp/aggregate_time"
   ]
  },
  {
   "cell_type": "code",
   "execution_count": 13,
   "metadata": {
    "ExecuteTime": {
     "end_time": "2020-04-25T11:25:54.675130Z",
     "start_time": "2020-04-25T11:25:54.643879Z"
    }
   },
   "outputs": [],
   "source": [
    "# TODO change when 2 or more bikes leaves the stataion"
   ]
  },
  {
   "cell_type": "code",
   "execution_count": 14,
   "metadata": {
    "ExecuteTime": {
     "end_time": "2020-04-25T11:25:54.690750Z",
     "start_time": "2020-04-25T11:25:54.675130Z"
    }
   },
   "outputs": [],
   "source": [
    "import matplotlib.pyplot as plt"
   ]
  },
  {
   "cell_type": "code",
   "execution_count": 15,
   "metadata": {
    "ExecuteTime": {
     "end_time": "2020-04-25T11:25:55.237632Z",
     "start_time": "2020-04-25T11:25:54.690750Z"
    },
    "scrolled": true
   },
   "outputs": [
    {
     "data": {
      "text/plain": [
       "<matplotlib.lines.Line2D at 0x9f77c4c1d0>"
      ]
     },
     "execution_count": 15,
     "metadata": {},
     "output_type": "execute_result"
    },
    {
     "data": {
      "image/png": "[encoded data removed]",
      "text/plain": [
       "<Figure size 432x288 with 1 Axes>"
      ]
     },
     "metadata": {
      "needs_background": "light"
     },
     "output_type": "display_data"
    }
   ],
   "source": [
    "sns.lineplot(data=aggregates.loc[2].rolling(2).mean())\n",
    "plt.axvline(x=19.3)\n",
    "plt.axhline(y=0)"
   ]
  },
  {
   "cell_type": "code",
   "execution_count": 16,
   "metadata": {
    "ExecuteTime": {
     "end_time": "2020-04-25T11:25:55.253258Z",
     "start_time": "2020-04-25T11:25:55.237632Z"
    }
   },
   "outputs": [
    {
     "data": {
      "text/plain": [
       "False"
      ]
     },
     "execution_count": 16,
     "metadata": {},
     "output_type": "execute_result"
    }
   ],
   "source": [
    "5 in broken_bikes.bike_id.values"
   ]
  },
  {
   "cell_type": "code",
   "execution_count": 26,
   "metadata": {
    "ExecuteTime": {
     "end_time": "2020-04-25T11:28:05.197402Z",
     "start_time": "2020-04-25T11:28:04.713020Z"
    }
   },
   "outputs": [
    {
     "data": {
      "text/plain": [
       "<matplotlib.axes._subplots.AxesSubplot at 0x9f7933a1d0>"
      ]
     },
     "execution_count": 26,
     "metadata": {},
     "output_type": "execute_result"
    },
    {
     "data": {
      "image/png": "[encoded data removed]",
      "text/plain": [
       "<Figure size 432x288 with 1 Axes>"
      ]
     },
     "metadata": {
      "needs_background": "light"
     },
     "output_type": "display_data"
    }
   ],
   "source": [
    "sns.lineplot(data=aggregates.loc[5].rolling(2).mean())"
   ]
  },
  {
   "cell_type": "code",
   "execution_count": 18,
   "metadata": {
    "ExecuteTime": {
     "end_time": "2020-04-25T11:25:56.190770Z",
     "start_time": "2020-04-25T11:25:55.800140Z"
    }
   },
   "outputs": [],
   "source": [
    "from sklearn.neighbors import LocalOutlierFactor\n",
    "from sklearn.linear_model import LogisticRegression"
   ]
  },
  {
   "cell_type": "code",
   "execution_count": 20,
   "metadata": {
    "ExecuteTime": {
     "end_time": "2020-04-25T11:25:56.253287Z",
     "start_time": "2020-04-25T11:25:56.222020Z"
    }
   },
   "outputs": [
    {
     "data": {
      "text/html": [
       "<div>\n",
       "<style scoped>\n",
       "    .dataframe tbody tr th:only-of-type {\n",
       "        vertical-align: middle;\n",
       "    }\n",
       "\n",
       "    .dataframe tbody tr th {\n",
       "        vertical-align: top;\n",
       "    }\n",
       "\n",
       "    .dataframe thead th {\n",
       "        text-align: right;\n",
       "    }\n",
       "</style>\n",
       "<table border=\"1\" class=\"dataframe\">\n",
       "  <thead>\n",
       "    <tr style=\"text-align: right;\">\n",
       "      <th></th>\n",
       "      <th>timestamp</th>\n",
       "      <th>bike_id</th>\n",
       "    </tr>\n",
       "  </thead>\n",
       "  <tbody>\n",
       "    <tr>\n",
       "      <th>0</th>\n",
       "      <td>0</td>\n",
       "      <td>58</td>\n",
       "    </tr>\n",
       "    <tr>\n",
       "      <th>1</th>\n",
       "      <td>0</td>\n",
       "      <td>96</td>\n",
       "    </tr>\n",
       "    <tr>\n",
       "      <th>2</th>\n",
       "      <td>0</td>\n",
       "      <td>15</td>\n",
       "    </tr>\n",
       "    <tr>\n",
       "      <th>3</th>\n",
       "      <td>1</td>\n",
       "      <td>99</td>\n",
       "    </tr>\n",
       "    <tr>\n",
       "      <th>4</th>\n",
       "      <td>1</td>\n",
       "      <td>38</td>\n",
       "    </tr>\n",
       "  </tbody>\n",
       "</table>\n",
       "</div>"
      ],
      "text/plain": [
       "   timestamp  bike_id\n",
       "0          0       58\n",
       "1          0       96\n",
       "2          0       15\n",
       "3          1       99\n",
       "4          1       38"
      ]
     },
     "execution_count": 20,
     "metadata": {},
     "output_type": "execute_result"
    }
   ],
   "source": [
    "translated_broken_bikes = broken_bikes.copy()\n",
    "translated_broken_bikes.timestamp = \\\n",
    "    translated_broken_bikes.timestamp.apply(lambda x: map_timestamp(x, aggregate_time))\n",
    "translated_broken_bikes.head()"
   ]
  },
  {
   "cell_type": "code",
   "execution_count": 21,
   "metadata": {
    "ExecuteTime": {
     "end_time": "2020-04-25T11:25:56.284522Z",
     "start_time": "2020-04-25T11:25:56.253287Z"
    }
   },
   "outputs": [
    {
     "data": {
      "text/plain": [
       "65    True\n",
       "67    True\n",
       "35    True\n",
       "39    True\n",
       "75    True\n",
       "Name: valid, dtype: bool"
      ]
     },
     "execution_count": 21,
     "metadata": {},
     "output_type": "execute_result"
    }
   ],
   "source": [
    "bikes_checking = bikes_scoring.BikesChecking(translated_broken_bikes, scores.bike_id.unique())\n",
    "bikes_checking.bikes_states(99).head()"
   ]
  },
  {
   "cell_type": "code",
   "execution_count": 22,
   "metadata": {
    "ExecuteTime": {
     "end_time": "2020-04-25T11:25:57.034539Z",
     "start_time": "2020-04-25T11:25:56.284522Z"
    },
    "scrolled": false
   },
   "outputs": [
    {
     "name": "stderr",
     "output_type": "stream",
     "text": [
      "  0%|                                                   | 0/84 [00:00<?, ?it/s]c:\\users\\wojciech\\appdata\\local\\programs\\python\\python36\\lib\\site-packages\\pandas\\core\\indexing.py:494: SettingWithCopyWarning: \n",
      "A value is trying to be set on a copy of a slice from a DataFrame.\n",
      "Try using .loc[row_indexer,col_indexer] = value instead\n",
      "\n",
      "See the caveats in the documentation: http://pandas.pydata.org/pandas-docs/stable/user_guide/indexing.html#returning-a-view-versus-a-copy\n",
      "  self.obj[item] = s\n",
      "100%|█████████████████████████████████████████| 84/84 [00:00<00:00, 119.46it/s]\n"
     ]
    }
   ],
   "source": [
    "temp = aggregates.groupby([\"time_group\", \"bike_id\"]).sum()\n",
    "temp[\"is_valid\"] = True\n",
    "time_table = list({t[1] for t in aggregates.index})\n",
    "\n",
    "tqdm.pandas(\"validation of bikes\")\n",
    "\n",
    "for t in tqdm(time_table):\n",
    "    states = bikes_checking.bikes_states(t)\n",
    "    time_df = temp.loc[t]\n",
    "    \n",
    "    intersection = set(time_df.index.values) & set(states.index.values)\n",
    "    \n",
    "    temp.loc[t].loc[intersection, \"is_valid\"] = states.loc[intersection]"
   ]
  },
  {
   "cell_type": "code",
   "execution_count": 23,
   "metadata": {
    "ExecuteTime": {
     "end_time": "2020-04-25T11:25:57.065780Z",
     "start_time": "2020-04-25T11:25:57.034539Z"
    },
    "scrolled": true
   },
   "outputs": [
    {
     "data": {
      "text/html": [
       "<div>\n",
       "<style scoped>\n",
       "    .dataframe tbody tr th:only-of-type {\n",
       "        vertical-align: middle;\n",
       "    }\n",
       "\n",
       "    .dataframe tbody tr th {\n",
       "        vertical-align: top;\n",
       "    }\n",
       "\n",
       "    .dataframe thead th {\n",
       "        text-align: right;\n",
       "    }\n",
       "</style>\n",
       "<table border=\"1\" class=\"dataframe\">\n",
       "  <thead>\n",
       "    <tr style=\"text-align: right;\">\n",
       "      <th></th>\n",
       "      <th></th>\n",
       "      <th>plus</th>\n",
       "      <th>minus</th>\n",
       "      <th>total</th>\n",
       "      <th>is_valid</th>\n",
       "    </tr>\n",
       "    <tr>\n",
       "      <th>time_group</th>\n",
       "      <th>bike_id</th>\n",
       "      <th></th>\n",
       "      <th></th>\n",
       "      <th></th>\n",
       "      <th></th>\n",
       "    </tr>\n",
       "  </thead>\n",
       "  <tbody>\n",
       "    <tr>\n",
       "      <th rowspan=\"5\" valign=\"top\">83</th>\n",
       "      <th>58</th>\n",
       "      <td>1</td>\n",
       "      <td>1.051190</td>\n",
       "      <td>-0.051190</td>\n",
       "      <td>False</td>\n",
       "    </tr>\n",
       "    <tr>\n",
       "      <th>77</th>\n",
       "      <td>1</td>\n",
       "      <td>1.120188</td>\n",
       "      <td>-0.120188</td>\n",
       "      <td>False</td>\n",
       "    </tr>\n",
       "    <tr>\n",
       "      <th>83</th>\n",
       "      <td>1</td>\n",
       "      <td>1.253943</td>\n",
       "      <td>-0.253943</td>\n",
       "      <td>False</td>\n",
       "    </tr>\n",
       "    <tr>\n",
       "      <th>96</th>\n",
       "      <td>1</td>\n",
       "      <td>1.886147</td>\n",
       "      <td>-0.886147</td>\n",
       "      <td>False</td>\n",
       "    </tr>\n",
       "    <tr>\n",
       "      <th>99</th>\n",
       "      <td>0</td>\n",
       "      <td>1.080109</td>\n",
       "      <td>-1.080109</td>\n",
       "      <td>False</td>\n",
       "    </tr>\n",
       "  </tbody>\n",
       "</table>\n",
       "</div>"
      ],
      "text/plain": [
       "                    plus     minus     total  is_valid\n",
       "time_group bike_id                                    \n",
       "83         58          1  1.051190 -0.051190     False\n",
       "           77          1  1.120188 -0.120188     False\n",
       "           83          1  1.253943 -0.253943     False\n",
       "           96          1  1.886147 -0.886147     False\n",
       "           99          0  1.080109 -1.080109     False"
      ]
     },
     "execution_count": 23,
     "metadata": {},
     "output_type": "execute_result"
    }
   ],
   "source": [
    "temp.loc[~temp.loc[:, \"is_valid\"]].tail(5)"
   ]
  },
  {
   "cell_type": "code",
   "execution_count": 24,
   "metadata": {
    "ExecuteTime": {
     "end_time": "2020-04-25T11:25:57.081406Z",
     "start_time": "2020-04-25T11:25:57.065780Z"
    }
   },
   "outputs": [
    {
     "data": {
      "text/plain": [
       "21"
      ]
     },
     "execution_count": 24,
     "metadata": {},
     "output_type": "execute_result"
    }
   ],
   "source": [
    "map_timestamp(time, 8)"
   ]
  },
  {
   "cell_type": "code",
   "execution_count": 25,
   "metadata": {
    "ExecuteTime": {
     "end_time": "2020-04-25T11:25:57.112656Z",
     "start_time": "2020-04-25T11:25:57.081406Z"
    }
   },
   "outputs": [],
   "source": [
    "for t in time_table:\n",
    "    # lof score for each day\n",
    "    # predict using LogisticRegression\n",
    "    pass"
   ]
  }
 ],
 "metadata": {
  "kernelspec": {
   "display_name": "Python 3",
   "language": "python",
   "name": "python3"
  },
  "language_info": {
   "codemirror_mode": {
    "name": "ipython",
    "version": 3
   },
   "file_extension": ".py",
   "mimetype": "text/x-python",
   "name": "python",
   "nbconvert_exporter": "python",
   "pygments_lexer": "ipython3",
   "version": "3.6.8"
  },
  "toc": {
   "base_numbering": 1,
   "nav_menu": {},
   "number_sections": true,
   "sideBar": true,
   "skip_h1_title": false,
   "title_cell": "Table of Contents",
   "title_sidebar": "Contents",
   "toc_cell": false,
   "toc_position": {},
   "toc_section_display": true,
   "toc_window_display": false
  },
  "varInspector": {
   "cols": {
    "lenName": 16,
    "lenType": 16,
    "lenVar": 40
   },
   "kernels_config": {
    "python": {
     "delete_cmd_postfix": "",
     "delete_cmd_prefix": "del ",
     "library": "var_list.py",
     "varRefreshCmd": "print(var_dic_list())"
    },
    "r": {
     "delete_cmd_postfix": ") ",
     "delete_cmd_prefix": "rm(",
     "library": "var_list.r",
     "varRefreshCmd": "cat(var_dic_list()) "
    }
   },
   "types_to_exclude": [
    "module",
    "function",
    "builtin_function_or_method",
    "instance",
    "_Feature"
   ],
   "window_display": false
  }
 },
 "nbformat": 4,
 "nbformat_minor": 2
}

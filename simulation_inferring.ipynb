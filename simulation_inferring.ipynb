{
 "cells": [
  {
   "cell_type": "code",
   "execution_count": 70,
   "metadata": {
    "ExecuteTime": {
     "end_time": "2020-04-24T12:05:22.996672Z",
     "start_time": "2020-04-24T12:05:22.992669Z"
    }
   },
   "outputs": [],
   "source": [
    "import pandas as pd\n",
    "from tqdm import tqdm"
   ]
  },
  {
   "cell_type": "code",
   "execution_count": 2,
   "metadata": {
    "ExecuteTime": {
     "end_time": "2020-04-24T11:24:04.657221Z",
     "start_time": "2020-04-24T11:24:04.613190Z"
    }
   },
   "outputs": [],
   "source": [
    "from src.model.city import City\n",
    "from src.simulation.simulation import Simulation, time_of_number_of_days\n",
    "from src.data_processing import bikes_scoring, station_changes, processing_constants"
   ]
  },
  {
   "cell_type": "code",
   "execution_count": 3,
   "metadata": {
    "ExecuteTime": {
     "end_time": "2020-04-24T11:24:05.421764Z",
     "start_time": "2020-04-24T11:24:04.660224Z"
    }
   },
   "outputs": [
    {
     "name": "stderr",
     "output_type": "stream",
     "text": [
      "simulating: 100%|████████████████████████| 2016/2016 [00:00<00:00, 2755.90it/s]\n"
     ]
    },
    {
     "data": {
      "text/plain": [
       "<src.simulation.simulation.Simulation at 0x702d415358>"
      ]
     },
     "execution_count": 3,
     "metadata": {},
     "output_type": "execute_result"
    }
   ],
   "source": [
    "city = City.from_numbers(100, 10).assign_bikes_randomly()\n",
    "time = time_of_number_of_days(7)\n",
    "simulaiton = Simulation()\n",
    "\n",
    "simulaiton.simulate(city, time)"
   ]
  },
  {
   "cell_type": "code",
   "execution_count": 4,
   "metadata": {
    "ExecuteTime": {
     "end_time": "2020-04-24T11:24:05.467802Z",
     "start_time": "2020-04-24T11:24:05.424767Z"
    }
   },
   "outputs": [],
   "source": [
    "broken_bikes = simulaiton.get_breaking_bikes_data()\n",
    "trips_history = simulaiton.get_stations_data()"
   ]
  },
  {
   "cell_type": "code",
   "execution_count": 5,
   "metadata": {
    "ExecuteTime": {
     "end_time": "2020-04-24T11:24:09.925964Z",
     "start_time": "2020-04-24T11:24:05.470799Z"
    },
    "scrolled": false
   },
   "outputs": [
    {
     "name": "stderr",
     "output_type": "stream",
     "text": [
      "finding stations changes: 100%|████████████████| 10/10 [00:01<00:00,  6.99it/s]\n",
      "scoring bikes: 100%|███████████████████| 20150/20150 [00:02<00:00, 7214.51it/s]\n"
     ]
    }
   ],
   "source": [
    "scores = bikes_scoring.BikesScoring(station_changes.StationChanges(trips_history).find_stations_changes()).score_bikes()"
   ]
  },
  {
   "cell_type": "code",
   "execution_count": 6,
   "metadata": {
    "ExecuteTime": {
     "end_time": "2020-04-24T11:24:09.956986Z",
     "start_time": "2020-04-24T11:24:09.928966Z"
    }
   },
   "outputs": [
    {
     "data": {
      "text/html": [
       "<div>\n",
       "<style scoped>\n",
       "    .dataframe tbody tr th:only-of-type {\n",
       "        vertical-align: middle;\n",
       "    }\n",
       "\n",
       "    .dataframe tbody tr th {\n",
       "        vertical-align: top;\n",
       "    }\n",
       "\n",
       "    .dataframe thead th {\n",
       "        text-align: right;\n",
       "    }\n",
       "</style>\n",
       "<table border=\"1\" class=\"dataframe\">\n",
       "  <thead>\n",
       "    <tr style=\"text-align: right;\">\n",
       "      <th></th>\n",
       "      <th>bike_id</th>\n",
       "      <th>timestamp</th>\n",
       "      <th>plus</th>\n",
       "      <th>minus</th>\n",
       "    </tr>\n",
       "  </thead>\n",
       "  <tbody>\n",
       "    <tr>\n",
       "      <th>0</th>\n",
       "      <td>65</td>\n",
       "      <td>1</td>\n",
       "      <td>0</td>\n",
       "      <td>0.111111</td>\n",
       "    </tr>\n",
       "    <tr>\n",
       "      <th>1</th>\n",
       "      <td>67</td>\n",
       "      <td>1</td>\n",
       "      <td>0</td>\n",
       "      <td>0.111111</td>\n",
       "    </tr>\n",
       "    <tr>\n",
       "      <th>2</th>\n",
       "      <td>35</td>\n",
       "      <td>1</td>\n",
       "      <td>0</td>\n",
       "      <td>0.111111</td>\n",
       "    </tr>\n",
       "    <tr>\n",
       "      <th>3</th>\n",
       "      <td>39</td>\n",
       "      <td>1</td>\n",
       "      <td>0</td>\n",
       "      <td>0.111111</td>\n",
       "    </tr>\n",
       "    <tr>\n",
       "      <th>4</th>\n",
       "      <td>75</td>\n",
       "      <td>1</td>\n",
       "      <td>0</td>\n",
       "      <td>0.111111</td>\n",
       "    </tr>\n",
       "    <tr>\n",
       "      <th>...</th>\n",
       "      <td>...</td>\n",
       "      <td>...</td>\n",
       "      <td>...</td>\n",
       "      <td>...</td>\n",
       "    </tr>\n",
       "    <tr>\n",
       "      <th>90142</th>\n",
       "      <td>78</td>\n",
       "      <td>2014</td>\n",
       "      <td>0</td>\n",
       "      <td>0.100000</td>\n",
       "    </tr>\n",
       "    <tr>\n",
       "      <th>90143</th>\n",
       "      <td>79</td>\n",
       "      <td>2014</td>\n",
       "      <td>0</td>\n",
       "      <td>0.100000</td>\n",
       "    </tr>\n",
       "    <tr>\n",
       "      <th>90144</th>\n",
       "      <td>85</td>\n",
       "      <td>2014</td>\n",
       "      <td>0</td>\n",
       "      <td>0.100000</td>\n",
       "    </tr>\n",
       "    <tr>\n",
       "      <th>90145</th>\n",
       "      <td>94</td>\n",
       "      <td>2014</td>\n",
       "      <td>0</td>\n",
       "      <td>0.100000</td>\n",
       "    </tr>\n",
       "    <tr>\n",
       "      <th>90146</th>\n",
       "      <td>52</td>\n",
       "      <td>2014</td>\n",
       "      <td>1</td>\n",
       "      <td>0.000000</td>\n",
       "    </tr>\n",
       "  </tbody>\n",
       "</table>\n",
       "<p>90147 rows × 4 columns</p>\n",
       "</div>"
      ],
      "text/plain": [
       "       bike_id  timestamp  plus     minus\n",
       "0           65          1     0  0.111111\n",
       "1           67          1     0  0.111111\n",
       "2           35          1     0  0.111111\n",
       "3           39          1     0  0.111111\n",
       "4           75          1     0  0.111111\n",
       "...        ...        ...   ...       ...\n",
       "90142       78       2014     0  0.100000\n",
       "90143       79       2014     0  0.100000\n",
       "90144       85       2014     0  0.100000\n",
       "90145       94       2014     0  0.100000\n",
       "90146       52       2014     1  0.000000\n",
       "\n",
       "[90147 rows x 4 columns]"
      ]
     },
     "execution_count": 6,
     "metadata": {},
     "output_type": "execute_result"
    }
   ],
   "source": [
    "scores"
   ]
  },
  {
   "cell_type": "code",
   "execution_count": 89,
   "metadata": {
    "ExecuteTime": {
     "end_time": "2020-04-24T13:00:12.068066Z",
     "start_time": "2020-04-24T13:00:12.063061Z"
    }
   },
   "outputs": [],
   "source": [
    "def map_timestamp(time: int, aggregate_hours: int) -> int:\n",
    "    return int(time/aggregate_hours)"
   ]
  },
  {
   "cell_type": "code",
   "execution_count": 7,
   "metadata": {
    "ExecuteTime": {
     "end_time": "2020-04-24T11:24:09.977000Z",
     "start_time": "2020-04-24T11:24:09.961990Z"
    }
   },
   "outputs": [],
   "source": [
    "def aggregate_results(df: pd.DataFrame, aggregate_hours: int) -> pd.DataFrame:\n",
    "    df[\"time_group\"] = df[\"timestamp\"].apply(lambda x: int(x/aggregate_hours))\n",
    "    agg = scores.drop([\"timestamp\"], axis=1).groupby([\"bike_id\", \"time_group\"]).sum()\n",
    "    agg[\"total\"] = agg.plus - agg.minus\n",
    "    return agg"
   ]
  },
  {
   "cell_type": "code",
   "execution_count": 16,
   "metadata": {
    "ExecuteTime": {
     "end_time": "2020-04-24T11:25:08.401264Z",
     "start_time": "2020-04-24T11:25:08.397261Z"
    }
   },
   "outputs": [],
   "source": [
    "import seaborn as sns"
   ]
  },
  {
   "cell_type": "code",
   "execution_count": 17,
   "metadata": {
    "ExecuteTime": {
     "end_time": "2020-04-24T11:25:08.600405Z",
     "start_time": "2020-04-24T11:25:08.404265Z"
    }
   },
   "outputs": [],
   "source": [
    "aggregate_time = 12\n",
    "aggregates = aggregate_results(scores, aggregate_time)"
   ]
  },
  {
   "cell_type": "code",
   "execution_count": 18,
   "metadata": {
    "ExecuteTime": {
     "end_time": "2020-04-24T11:25:08.608412Z",
     "start_time": "2020-04-24T11:25:08.602406Z"
    }
   },
   "outputs": [
    {
     "data": {
      "text/plain": [
       "True"
      ]
     },
     "execution_count": 18,
     "metadata": {},
     "output_type": "execute_result"
    }
   ],
   "source": [
    "2 in broken_bikes.bike_id.values"
   ]
  },
  {
   "cell_type": "code",
   "execution_count": 19,
   "metadata": {
    "ExecuteTime": {
     "end_time": "2020-04-24T11:25:08.638432Z",
     "start_time": "2020-04-24T11:25:08.611413Z"
    }
   },
   "outputs": [
    {
     "data": {
      "text/plain": [
       "5    39.333333\n",
       "Name: timestamp, dtype: float64"
      ]
     },
     "execution_count": 19,
     "metadata": {},
     "output_type": "execute_result"
    }
   ],
   "source": [
    "broken_bikes[broken_bikes.bike_id==2].timestamp/aggregate_time"
   ]
  },
  {
   "cell_type": "code",
   "execution_count": 20,
   "metadata": {
    "ExecuteTime": {
     "end_time": "2020-04-24T11:25:09.262876Z",
     "start_time": "2020-04-24T11:25:08.641435Z"
    },
    "scrolled": true
   },
   "outputs": [
    {
     "data": {
      "text/plain": [
       "<matplotlib.axes._subplots.AxesSubplot at 0x702fd8dac8>"
      ]
     },
     "execution_count": 20,
     "metadata": {},
     "output_type": "execute_result"
    },
    {
     "data": {
      "image/png": "[encoded data removed]",
      "text/plain": [
       "<Figure size 432x288 with 1 Axes>"
      ]
     },
     "metadata": {
      "needs_background": "light"
     },
     "output_type": "display_data"
    }
   ],
   "source": [
    "sns.lineplot(data=aggregates.loc[2].rolling(3).mean())"
   ]
  },
  {
   "cell_type": "code",
   "execution_count": 21,
   "metadata": {
    "ExecuteTime": {
     "end_time": "2020-04-24T11:25:09.271881Z",
     "start_time": "2020-04-24T11:25:09.264877Z"
    }
   },
   "outputs": [
    {
     "data": {
      "text/plain": [
       "False"
      ]
     },
     "execution_count": 21,
     "metadata": {},
     "output_type": "execute_result"
    }
   ],
   "source": [
    "5 in broken_bikes.bike_id.values"
   ]
  },
  {
   "cell_type": "code",
   "execution_count": 22,
   "metadata": {
    "ExecuteTime": {
     "end_time": "2020-04-24T11:25:09.922343Z",
     "start_time": "2020-04-24T11:25:09.276886Z"
    }
   },
   "outputs": [
    {
     "data": {
      "text/plain": [
       "<matplotlib.axes._subplots.AxesSubplot at 0x702fd5bc50>"
      ]
     },
     "execution_count": 22,
     "metadata": {},
     "output_type": "execute_result"
    },
    {
     "data": {
      "image/png": "[encoded data removed]",
      "text/plain": [
       "<Figure size 432x288 with 1 Axes>"
      ]
     },
     "metadata": {
      "needs_background": "light"
     },
     "output_type": "display_data"
    }
   ],
   "source": [
    "sns.lineplot(data=aggregates.loc[5].rolling(3).mean())"
   ]
  },
  {
   "cell_type": "code",
   "execution_count": 23,
   "metadata": {
    "ExecuteTime": {
     "end_time": "2020-04-24T11:25:10.347645Z",
     "start_time": "2020-04-24T11:25:09.930350Z"
    }
   },
   "outputs": [],
   "source": [
    "from sklearn.neighbors import LocalOutlierFactor\n",
    "from sklearn.linear_model import LogisticRegression"
   ]
  },
  {
   "cell_type": "code",
   "execution_count": 37,
   "metadata": {
    "ExecuteTime": {
     "end_time": "2020-04-24T11:34:05.686181Z",
     "start_time": "2020-04-24T11:34:05.660163Z"
    }
   },
   "outputs": [
    {
     "data": {
      "text/html": [
       "<div>\n",
       "<style scoped>\n",
       "    .dataframe tbody tr th:only-of-type {\n",
       "        vertical-align: middle;\n",
       "    }\n",
       "\n",
       "    .dataframe tbody tr th {\n",
       "        vertical-align: top;\n",
       "    }\n",
       "\n",
       "    .dataframe thead th {\n",
       "        text-align: right;\n",
       "    }\n",
       "</style>\n",
       "<table border=\"1\" class=\"dataframe\">\n",
       "  <thead>\n",
       "    <tr style=\"text-align: right;\">\n",
       "      <th></th>\n",
       "      <th>bike_id</th>\n",
       "      <th>time_group</th>\n",
       "      <th>plus</th>\n",
       "      <th>minus</th>\n",
       "      <th>total</th>\n",
       "    </tr>\n",
       "  </thead>\n",
       "  <tbody>\n",
       "    <tr>\n",
       "      <th>0</th>\n",
       "      <td>0</td>\n",
       "      <td>0</td>\n",
       "      <td>1</td>\n",
       "      <td>0.544444</td>\n",
       "      <td>0.455556</td>\n",
       "    </tr>\n",
       "    <tr>\n",
       "      <th>4703</th>\n",
       "      <td>28</td>\n",
       "      <td>0</td>\n",
       "      <td>1</td>\n",
       "      <td>0.160256</td>\n",
       "      <td>0.839744</td>\n",
       "    </tr>\n",
       "    <tr>\n",
       "      <th>4871</th>\n",
       "      <td>29</td>\n",
       "      <td>0</td>\n",
       "      <td>1</td>\n",
       "      <td>0.361111</td>\n",
       "      <td>0.638889</td>\n",
       "    </tr>\n",
       "    <tr>\n",
       "      <th>5039</th>\n",
       "      <td>30</td>\n",
       "      <td>0</td>\n",
       "      <td>0</td>\n",
       "      <td>0.342075</td>\n",
       "      <td>-0.342075</td>\n",
       "    </tr>\n",
       "    <tr>\n",
       "      <th>5207</th>\n",
       "      <td>31</td>\n",
       "      <td>0</td>\n",
       "      <td>1</td>\n",
       "      <td>0.258741</td>\n",
       "      <td>0.741259</td>\n",
       "    </tr>\n",
       "    <tr>\n",
       "      <th>...</th>\n",
       "      <td>...</td>\n",
       "      <td>...</td>\n",
       "      <td>...</td>\n",
       "      <td>...</td>\n",
       "      <td>...</td>\n",
       "    </tr>\n",
       "    <tr>\n",
       "      <th>15956</th>\n",
       "      <td>94</td>\n",
       "      <td>167</td>\n",
       "      <td>0</td>\n",
       "      <td>0.699747</td>\n",
       "      <td>-0.699747</td>\n",
       "    </tr>\n",
       "    <tr>\n",
       "      <th>1174</th>\n",
       "      <td>6</td>\n",
       "      <td>167</td>\n",
       "      <td>1</td>\n",
       "      <td>0.501166</td>\n",
       "      <td>0.498834</td>\n",
       "    </tr>\n",
       "    <tr>\n",
       "      <th>7054</th>\n",
       "      <td>41</td>\n",
       "      <td>167</td>\n",
       "      <td>0</td>\n",
       "      <td>0.442075</td>\n",
       "      <td>-0.442075</td>\n",
       "    </tr>\n",
       "    <tr>\n",
       "      <th>9572</th>\n",
       "      <td>56</td>\n",
       "      <td>167</td>\n",
       "      <td>1</td>\n",
       "      <td>0.410714</td>\n",
       "      <td>0.589286</td>\n",
       "    </tr>\n",
       "    <tr>\n",
       "      <th>16796</th>\n",
       "      <td>99</td>\n",
       "      <td>167</td>\n",
       "      <td>0</td>\n",
       "      <td>0.602331</td>\n",
       "      <td>-0.602331</td>\n",
       "    </tr>\n",
       "  </tbody>\n",
       "</table>\n",
       "<p>16797 rows × 5 columns</p>\n",
       "</div>"
      ],
      "text/plain": [
       "       bike_id  time_group  plus     minus     total\n",
       "0            0           0     1  0.544444  0.455556\n",
       "4703        28           0     1  0.160256  0.839744\n",
       "4871        29           0     1  0.361111  0.638889\n",
       "5039        30           0     0  0.342075 -0.342075\n",
       "5207        31           0     1  0.258741  0.741259\n",
       "...        ...         ...   ...       ...       ...\n",
       "15956       94         167     0  0.699747 -0.699747\n",
       "1174         6         167     1  0.501166  0.498834\n",
       "7054        41         167     0  0.442075 -0.442075\n",
       "9572        56         167     1  0.410714  0.589286\n",
       "16796       99         167     0  0.602331 -0.602331\n",
       "\n",
       "[16797 rows x 5 columns]"
      ]
     },
     "execution_count": 37,
     "metadata": {},
     "output_type": "execute_result"
    }
   ],
   "source": [
    "aggregates.reset_index().sort_values([\"time_group\"])"
   ]
  },
  {
   "cell_type": "code",
   "execution_count": 93,
   "metadata": {
    "ExecuteTime": {
     "end_time": "2020-04-24T13:01:50.743149Z",
     "start_time": "2020-04-24T13:01:50.729139Z"
    }
   },
   "outputs": [
    {
     "data": {
      "text/html": [
       "<div>\n",
       "<style scoped>\n",
       "    .dataframe tbody tr th:only-of-type {\n",
       "        vertical-align: middle;\n",
       "    }\n",
       "\n",
       "    .dataframe tbody tr th {\n",
       "        vertical-align: top;\n",
       "    }\n",
       "\n",
       "    .dataframe thead th {\n",
       "        text-align: right;\n",
       "    }\n",
       "</style>\n",
       "<table border=\"1\" class=\"dataframe\">\n",
       "  <thead>\n",
       "    <tr style=\"text-align: right;\">\n",
       "      <th></th>\n",
       "      <th>timestamp</th>\n",
       "      <th>bike_id</th>\n",
       "    </tr>\n",
       "  </thead>\n",
       "  <tbody>\n",
       "    <tr>\n",
       "      <th>0</th>\n",
       "      <td>0</td>\n",
       "      <td>58</td>\n",
       "    </tr>\n",
       "    <tr>\n",
       "      <th>1</th>\n",
       "      <td>6</td>\n",
       "      <td>96</td>\n",
       "    </tr>\n",
       "    <tr>\n",
       "      <th>2</th>\n",
       "      <td>7</td>\n",
       "      <td>15</td>\n",
       "    </tr>\n",
       "    <tr>\n",
       "      <th>3</th>\n",
       "      <td>25</td>\n",
       "      <td>99</td>\n",
       "    </tr>\n",
       "    <tr>\n",
       "      <th>4</th>\n",
       "      <td>28</td>\n",
       "      <td>38</td>\n",
       "    </tr>\n",
       "    <tr>\n",
       "      <th>5</th>\n",
       "      <td>39</td>\n",
       "      <td>2</td>\n",
       "    </tr>\n",
       "    <tr>\n",
       "      <th>6</th>\n",
       "      <td>56</td>\n",
       "      <td>77</td>\n",
       "    </tr>\n",
       "    <tr>\n",
       "      <th>7</th>\n",
       "      <td>58</td>\n",
       "      <td>21</td>\n",
       "    </tr>\n",
       "    <tr>\n",
       "      <th>8</th>\n",
       "      <td>64</td>\n",
       "      <td>24</td>\n",
       "    </tr>\n",
       "    <tr>\n",
       "      <th>9</th>\n",
       "      <td>72</td>\n",
       "      <td>4</td>\n",
       "    </tr>\n",
       "    <tr>\n",
       "      <th>10</th>\n",
       "      <td>75</td>\n",
       "      <td>31</td>\n",
       "    </tr>\n",
       "    <tr>\n",
       "      <th>11</th>\n",
       "      <td>76</td>\n",
       "      <td>83</td>\n",
       "    </tr>\n",
       "    <tr>\n",
       "      <th>12</th>\n",
       "      <td>121</td>\n",
       "      <td>54</td>\n",
       "    </tr>\n",
       "    <tr>\n",
       "      <th>13</th>\n",
       "      <td>157</td>\n",
       "      <td>50</td>\n",
       "    </tr>\n",
       "    <tr>\n",
       "      <th>14</th>\n",
       "      <td>164</td>\n",
       "      <td>37</td>\n",
       "    </tr>\n",
       "  </tbody>\n",
       "</table>\n",
       "</div>"
      ],
      "text/plain": [
       "    timestamp  bike_id\n",
       "0           0       58\n",
       "1           6       96\n",
       "2           7       15\n",
       "3          25       99\n",
       "4          28       38\n",
       "5          39        2\n",
       "6          56       77\n",
       "7          58       21\n",
       "8          64       24\n",
       "9          72        4\n",
       "10         75       31\n",
       "11         76       83\n",
       "12        121       54\n",
       "13        157       50\n",
       "14        164       37"
      ]
     },
     "execution_count": 93,
     "metadata": {},
     "output_type": "execute_result"
    }
   ],
   "source": [
    "translated_broken_bikes = broken_bikes.copy()\n",
    "translated_broken_bikes.timestamp = \\\n",
    "    translated_broken_bikes.timestamp.apply(lambda x: map_timestamp(x, aggregate_time))\n",
    "translated_broken_bikes"
   ]
  },
  {
   "cell_type": "code",
   "execution_count": 94,
   "metadata": {
    "ExecuteTime": {
     "end_time": "2020-04-24T13:02:12.126924Z",
     "start_time": "2020-04-24T13:02:12.111913Z"
    }
   },
   "outputs": [
    {
     "data": {
      "text/plain": [
       "65     True\n",
       "67     True\n",
       "35     True\n",
       "39     True\n",
       "75     True\n",
       "      ...  \n",
       "46     True\n",
       "3      True\n",
       "19     True\n",
       "66     True\n",
       "96    False\n",
       "Name: valid, Length: 100, dtype: bool"
      ]
     },
     "execution_count": 94,
     "metadata": {},
     "output_type": "execute_result"
    }
   ],
   "source": [
    "bikes_checking = bikes_scoring.BikesChecking(translated_broken_bikes, scores.bike_id.unique())\n",
    "bikes_checking.bikes_states(99)"
   ]
  },
  {
   "cell_type": "code",
   "execution_count": 95,
   "metadata": {
    "ExecuteTime": {
     "end_time": "2020-04-24T13:04:27.055757Z",
     "start_time": "2020-04-24T13:02:21.464556Z"
    },
    "scrolled": false
   },
   "outputs": [
    {
     "name": "stderr",
     "output_type": "stream",
     "text": [
      "  0%|                                                | 0/16797 [00:00<?, ?it/s]c:\\users\\wojciech\\appdata\\local\\programs\\python\\python36\\lib\\site-packages\\pandas\\core\\indexing.py:494: SettingWithCopyWarning: \n",
      "A value is trying to be set on a copy of a slice from a DataFrame.\n",
      "Try using .loc[row_indexer,col_indexer] = value instead\n",
      "\n",
      "See the caveats in the documentation: http://pandas.pydata.org/pandas-docs/stable/user_guide/indexing.html#returning-a-view-versus-a-copy\n",
      "  self.obj[item] = s\n",
      "100%|███████████████████████████████████| 16797/16797 [02:05<00:00, 133.78it/s]\n"
     ]
    }
   ],
   "source": [
    "temp = aggregates.groupby([\"time_group\", \"bike_id\"]).sum()\n",
    "temp[\"is_valid\"] = True\n",
    "time_table = [t[0] for t in aggregates.index]\n",
    "\n",
    "tqdm.pandas(\"validation of bikes\")\n",
    "\n",
    "for t in tqdm(time_table):\n",
    "    states = bikes_checking.bikes_states(t)\n",
    "    time_df = temp.loc[t]\n",
    "    \n",
    "    intersection = set(time_df.index.values) & set(states.index.values)\n",
    "    \n",
    "    temp.loc[t].loc[intersection, \"is_valid\"] = states.loc[intersection]"
   ]
  },
  {
   "cell_type": "code",
   "execution_count": 102,
   "metadata": {
    "ExecuteTime": {
     "end_time": "2020-04-24T13:09:57.831467Z",
     "start_time": "2020-04-24T13:09:57.805448Z"
    }
   },
   "outputs": [
    {
     "data": {
      "text/html": [
       "<div>\n",
       "<style scoped>\n",
       "    .dataframe tbody tr th:only-of-type {\n",
       "        vertical-align: middle;\n",
       "    }\n",
       "\n",
       "    .dataframe tbody tr th {\n",
       "        vertical-align: top;\n",
       "    }\n",
       "\n",
       "    .dataframe thead th {\n",
       "        text-align: right;\n",
       "    }\n",
       "</style>\n",
       "<table border=\"1\" class=\"dataframe\">\n",
       "  <thead>\n",
       "    <tr style=\"text-align: right;\">\n",
       "      <th></th>\n",
       "      <th></th>\n",
       "      <th>plus</th>\n",
       "      <th>minus</th>\n",
       "      <th>total</th>\n",
       "      <th>is_valid</th>\n",
       "    </tr>\n",
       "    <tr>\n",
       "      <th>time_group</th>\n",
       "      <th>bike_id</th>\n",
       "      <th></th>\n",
       "      <th></th>\n",
       "      <th></th>\n",
       "      <th></th>\n",
       "    </tr>\n",
       "  </thead>\n",
       "  <tbody>\n",
       "    <tr>\n",
       "      <th rowspan=\"2\" valign=\"top\">95</th>\n",
       "      <th>96</th>\n",
       "      <td>1</td>\n",
       "      <td>0.633333</td>\n",
       "      <td>0.366667</td>\n",
       "      <td>False</td>\n",
       "    </tr>\n",
       "    <tr>\n",
       "      <th>99</th>\n",
       "      <td>0</td>\n",
       "      <td>0.702381</td>\n",
       "      <td>-0.702381</td>\n",
       "      <td>False</td>\n",
       "    </tr>\n",
       "    <tr>\n",
       "      <th rowspan=\"12\" valign=\"top\">96</th>\n",
       "      <th>2</th>\n",
       "      <td>0</td>\n",
       "      <td>0.928716</td>\n",
       "      <td>-0.928716</td>\n",
       "      <td>False</td>\n",
       "    </tr>\n",
       "    <tr>\n",
       "      <th>4</th>\n",
       "      <td>0</td>\n",
       "      <td>0.499145</td>\n",
       "      <td>-0.499145</td>\n",
       "      <td>False</td>\n",
       "    </tr>\n",
       "    <tr>\n",
       "      <th>15</th>\n",
       "      <td>0</td>\n",
       "      <td>0.863889</td>\n",
       "      <td>-0.863889</td>\n",
       "      <td>False</td>\n",
       "    </tr>\n",
       "    <tr>\n",
       "      <th>21</th>\n",
       "      <td>1</td>\n",
       "      <td>0.595238</td>\n",
       "      <td>0.404762</td>\n",
       "      <td>False</td>\n",
       "    </tr>\n",
       "    <tr>\n",
       "      <th>24</th>\n",
       "      <td>0</td>\n",
       "      <td>0.863889</td>\n",
       "      <td>-0.863889</td>\n",
       "      <td>False</td>\n",
       "    </tr>\n",
       "    <tr>\n",
       "      <th>31</th>\n",
       "      <td>1</td>\n",
       "      <td>0.917605</td>\n",
       "      <td>0.082395</td>\n",
       "      <td>False</td>\n",
       "    </tr>\n",
       "    <tr>\n",
       "      <th>38</th>\n",
       "      <td>0</td>\n",
       "      <td>0.785714</td>\n",
       "      <td>-0.785714</td>\n",
       "      <td>False</td>\n",
       "    </tr>\n",
       "    <tr>\n",
       "      <th>58</th>\n",
       "      <td>0</td>\n",
       "      <td>0.476190</td>\n",
       "      <td>-0.476190</td>\n",
       "      <td>False</td>\n",
       "    </tr>\n",
       "    <tr>\n",
       "      <th>77</th>\n",
       "      <td>0</td>\n",
       "      <td>1.342857</td>\n",
       "      <td>-1.342857</td>\n",
       "      <td>False</td>\n",
       "    </tr>\n",
       "    <tr>\n",
       "      <th>83</th>\n",
       "      <td>1</td>\n",
       "      <td>0.416667</td>\n",
       "      <td>0.583333</td>\n",
       "      <td>False</td>\n",
       "    </tr>\n",
       "    <tr>\n",
       "      <th>96</th>\n",
       "      <td>0</td>\n",
       "      <td>0.785714</td>\n",
       "      <td>-0.785714</td>\n",
       "      <td>False</td>\n",
       "    </tr>\n",
       "    <tr>\n",
       "      <th>99</th>\n",
       "      <td>0</td>\n",
       "      <td>1.128716</td>\n",
       "      <td>-1.128716</td>\n",
       "      <td>False</td>\n",
       "    </tr>\n",
       "    <tr>\n",
       "      <th rowspan=\"12\" valign=\"top\">97</th>\n",
       "      <th>2</th>\n",
       "      <td>0</td>\n",
       "      <td>0.586111</td>\n",
       "      <td>-0.586111</td>\n",
       "      <td>False</td>\n",
       "    </tr>\n",
       "    <tr>\n",
       "      <th>4</th>\n",
       "      <td>1</td>\n",
       "      <td>0.503846</td>\n",
       "      <td>0.496154</td>\n",
       "      <td>False</td>\n",
       "    </tr>\n",
       "    <tr>\n",
       "      <th>15</th>\n",
       "      <td>1</td>\n",
       "      <td>0.294444</td>\n",
       "      <td>0.705556</td>\n",
       "      <td>False</td>\n",
       "    </tr>\n",
       "    <tr>\n",
       "      <th>21</th>\n",
       "      <td>1</td>\n",
       "      <td>0.400000</td>\n",
       "      <td>0.600000</td>\n",
       "      <td>False</td>\n",
       "    </tr>\n",
       "    <tr>\n",
       "      <th>24</th>\n",
       "      <td>0</td>\n",
       "      <td>0.568687</td>\n",
       "      <td>-0.568687</td>\n",
       "      <td>False</td>\n",
       "    </tr>\n",
       "    <tr>\n",
       "      <th>31</th>\n",
       "      <td>0</td>\n",
       "      <td>0.457576</td>\n",
       "      <td>-0.457576</td>\n",
       "      <td>False</td>\n",
       "    </tr>\n",
       "    <tr>\n",
       "      <th>38</th>\n",
       "      <td>0</td>\n",
       "      <td>0.932540</td>\n",
       "      <td>-0.932540</td>\n",
       "      <td>False</td>\n",
       "    </tr>\n",
       "    <tr>\n",
       "      <th>58</th>\n",
       "      <td>0</td>\n",
       "      <td>0.619048</td>\n",
       "      <td>-0.619048</td>\n",
       "      <td>False</td>\n",
       "    </tr>\n",
       "    <tr>\n",
       "      <th>77</th>\n",
       "      <td>0</td>\n",
       "      <td>0.775000</td>\n",
       "      <td>-0.775000</td>\n",
       "      <td>False</td>\n",
       "    </tr>\n",
       "    <tr>\n",
       "      <th>83</th>\n",
       "      <td>0</td>\n",
       "      <td>0.476190</td>\n",
       "      <td>-0.476190</td>\n",
       "      <td>False</td>\n",
       "    </tr>\n",
       "    <tr>\n",
       "      <th>96</th>\n",
       "      <td>0</td>\n",
       "      <td>0.932540</td>\n",
       "      <td>-0.932540</td>\n",
       "      <td>False</td>\n",
       "    </tr>\n",
       "    <tr>\n",
       "      <th>99</th>\n",
       "      <td>1</td>\n",
       "      <td>0.486111</td>\n",
       "      <td>0.513889</td>\n",
       "      <td>False</td>\n",
       "    </tr>\n",
       "    <tr>\n",
       "      <th rowspan=\"12\" valign=\"top\">98</th>\n",
       "      <th>2</th>\n",
       "      <td>1</td>\n",
       "      <td>0.274242</td>\n",
       "      <td>0.725758</td>\n",
       "      <td>False</td>\n",
       "    </tr>\n",
       "    <tr>\n",
       "      <th>4</th>\n",
       "      <td>0</td>\n",
       "      <td>0.476263</td>\n",
       "      <td>-0.476263</td>\n",
       "      <td>False</td>\n",
       "    </tr>\n",
       "    <tr>\n",
       "      <th>15</th>\n",
       "      <td>0</td>\n",
       "      <td>1.119048</td>\n",
       "      <td>-1.119048</td>\n",
       "      <td>False</td>\n",
       "    </tr>\n",
       "    <tr>\n",
       "      <th>21</th>\n",
       "      <td>0</td>\n",
       "      <td>0.361111</td>\n",
       "      <td>-0.361111</td>\n",
       "      <td>False</td>\n",
       "    </tr>\n",
       "    <tr>\n",
       "      <th>24</th>\n",
       "      <td>0</td>\n",
       "      <td>0.879304</td>\n",
       "      <td>-0.879304</td>\n",
       "      <td>False</td>\n",
       "    </tr>\n",
       "    <tr>\n",
       "      <th>31</th>\n",
       "      <td>1</td>\n",
       "      <td>0.382479</td>\n",
       "      <td>0.617521</td>\n",
       "      <td>False</td>\n",
       "    </tr>\n",
       "    <tr>\n",
       "      <th>38</th>\n",
       "      <td>0</td>\n",
       "      <td>1.119048</td>\n",
       "      <td>-1.119048</td>\n",
       "      <td>False</td>\n",
       "    </tr>\n",
       "    <tr>\n",
       "      <th>58</th>\n",
       "      <td>0</td>\n",
       "      <td>0.836111</td>\n",
       "      <td>-0.836111</td>\n",
       "      <td>False</td>\n",
       "    </tr>\n",
       "    <tr>\n",
       "      <th>77</th>\n",
       "      <td>1</td>\n",
       "      <td>0.533333</td>\n",
       "      <td>0.466667</td>\n",
       "      <td>False</td>\n",
       "    </tr>\n",
       "    <tr>\n",
       "      <th>83</th>\n",
       "      <td>0</td>\n",
       "      <td>0.836111</td>\n",
       "      <td>-0.836111</td>\n",
       "      <td>False</td>\n",
       "    </tr>\n",
       "    <tr>\n",
       "      <th>96</th>\n",
       "      <td>0</td>\n",
       "      <td>1.119048</td>\n",
       "      <td>-1.119048</td>\n",
       "      <td>False</td>\n",
       "    </tr>\n",
       "    <tr>\n",
       "      <th>99</th>\n",
       "      <td>0</td>\n",
       "      <td>0.236111</td>\n",
       "      <td>-0.236111</td>\n",
       "      <td>False</td>\n",
       "    </tr>\n",
       "    <tr>\n",
       "      <th rowspan=\"12\" valign=\"top\">99</th>\n",
       "      <th>2</th>\n",
       "      <td>0</td>\n",
       "      <td>0.310689</td>\n",
       "      <td>-0.310689</td>\n",
       "      <td>False</td>\n",
       "    </tr>\n",
       "    <tr>\n",
       "      <th>4</th>\n",
       "      <td>0</td>\n",
       "      <td>0.705711</td>\n",
       "      <td>-0.705711</td>\n",
       "      <td>False</td>\n",
       "    </tr>\n",
       "    <tr>\n",
       "      <th>15</th>\n",
       "      <td>0</td>\n",
       "      <td>0.486111</td>\n",
       "      <td>-0.486111</td>\n",
       "      <td>False</td>\n",
       "    </tr>\n",
       "    <tr>\n",
       "      <th>21</th>\n",
       "      <td>1</td>\n",
       "      <td>0.934524</td>\n",
       "      <td>0.065476</td>\n",
       "      <td>False</td>\n",
       "    </tr>\n",
       "    <tr>\n",
       "      <th>24</th>\n",
       "      <td>1</td>\n",
       "      <td>0.385714</td>\n",
       "      <td>0.614286</td>\n",
       "      <td>False</td>\n",
       "    </tr>\n",
       "    <tr>\n",
       "      <th>31</th>\n",
       "      <td>0</td>\n",
       "      <td>1.534524</td>\n",
       "      <td>-1.534524</td>\n",
       "      <td>False</td>\n",
       "    </tr>\n",
       "    <tr>\n",
       "      <th>38</th>\n",
       "      <td>0</td>\n",
       "      <td>0.486111</td>\n",
       "      <td>-0.486111</td>\n",
       "      <td>False</td>\n",
       "    </tr>\n",
       "    <tr>\n",
       "      <th>58</th>\n",
       "      <td>1</td>\n",
       "      <td>0.578968</td>\n",
       "      <td>0.421032</td>\n",
       "      <td>False</td>\n",
       "    </tr>\n",
       "    <tr>\n",
       "      <th>77</th>\n",
       "      <td>0</td>\n",
       "      <td>0.547222</td>\n",
       "      <td>-0.547222</td>\n",
       "      <td>False</td>\n",
       "    </tr>\n",
       "    <tr>\n",
       "      <th>83</th>\n",
       "      <td>0</td>\n",
       "      <td>0.690079</td>\n",
       "      <td>-0.690079</td>\n",
       "      <td>False</td>\n",
       "    </tr>\n",
       "    <tr>\n",
       "      <th>96</th>\n",
       "      <td>0</td>\n",
       "      <td>0.486111</td>\n",
       "      <td>-0.486111</td>\n",
       "      <td>False</td>\n",
       "    </tr>\n",
       "    <tr>\n",
       "      <th>99</th>\n",
       "      <td>0</td>\n",
       "      <td>0.994048</td>\n",
       "      <td>-0.994048</td>\n",
       "      <td>False</td>\n",
       "    </tr>\n",
       "  </tbody>\n",
       "</table>\n",
       "</div>"
      ],
      "text/plain": [
       "                    plus     minus     total  is_valid\n",
       "time_group bike_id                                    \n",
       "95         96          1  0.633333  0.366667     False\n",
       "           99          0  0.702381 -0.702381     False\n",
       "96         2           0  0.928716 -0.928716     False\n",
       "           4           0  0.499145 -0.499145     False\n",
       "           15          0  0.863889 -0.863889     False\n",
       "           21          1  0.595238  0.404762     False\n",
       "           24          0  0.863889 -0.863889     False\n",
       "           31          1  0.917605  0.082395     False\n",
       "           38          0  0.785714 -0.785714     False\n",
       "           58          0  0.476190 -0.476190     False\n",
       "           77          0  1.342857 -1.342857     False\n",
       "           83          1  0.416667  0.583333     False\n",
       "           96          0  0.785714 -0.785714     False\n",
       "           99          0  1.128716 -1.128716     False\n",
       "97         2           0  0.586111 -0.586111     False\n",
       "           4           1  0.503846  0.496154     False\n",
       "           15          1  0.294444  0.705556     False\n",
       "           21          1  0.400000  0.600000     False\n",
       "           24          0  0.568687 -0.568687     False\n",
       "           31          0  0.457576 -0.457576     False\n",
       "           38          0  0.932540 -0.932540     False\n",
       "           58          0  0.619048 -0.619048     False\n",
       "           77          0  0.775000 -0.775000     False\n",
       "           83          0  0.476190 -0.476190     False\n",
       "           96          0  0.932540 -0.932540     False\n",
       "           99          1  0.486111  0.513889     False\n",
       "98         2           1  0.274242  0.725758     False\n",
       "           4           0  0.476263 -0.476263     False\n",
       "           15          0  1.119048 -1.119048     False\n",
       "           21          0  0.361111 -0.361111     False\n",
       "           24          0  0.879304 -0.879304     False\n",
       "           31          1  0.382479  0.617521     False\n",
       "           38          0  1.119048 -1.119048     False\n",
       "           58          0  0.836111 -0.836111     False\n",
       "           77          1  0.533333  0.466667     False\n",
       "           83          0  0.836111 -0.836111     False\n",
       "           96          0  1.119048 -1.119048     False\n",
       "           99          0  0.236111 -0.236111     False\n",
       "99         2           0  0.310689 -0.310689     False\n",
       "           4           0  0.705711 -0.705711     False\n",
       "           15          0  0.486111 -0.486111     False\n",
       "           21          1  0.934524  0.065476     False\n",
       "           24          1  0.385714  0.614286     False\n",
       "           31          0  1.534524 -1.534524     False\n",
       "           38          0  0.486111 -0.486111     False\n",
       "           58          1  0.578968  0.421032     False\n",
       "           77          0  0.547222 -0.547222     False\n",
       "           83          0  0.690079 -0.690079     False\n",
       "           96          0  0.486111 -0.486111     False\n",
       "           99          0  0.994048 -0.994048     False"
      ]
     },
     "execution_count": 102,
     "metadata": {},
     "output_type": "execute_result"
    }
   ],
   "source": [
    "temp.loc[~temp.loc[:, \"is_valid\"]].tail(50)"
   ]
  }
 ],
 "metadata": {
  "kernelspec": {
   "display_name": "Python 3",
   "language": "python",
   "name": "python3"
  },
  "language_info": {
   "codemirror_mode": {
    "name": "ipython",
    "version": 3
   },
   "file_extension": ".py",
   "mimetype": "text/x-python",
   "name": "python",
   "nbconvert_exporter": "python",
   "pygments_lexer": "ipython3",
   "version": "3.6.8"
  },
  "toc": {
   "base_numbering": 1,
   "nav_menu": {},
   "number_sections": true,
   "sideBar": true,
   "skip_h1_title": false,
   "title_cell": "Table of Contents",
   "title_sidebar": "Contents",
   "toc_cell": false,
   "toc_position": {},
   "toc_section_display": true,
   "toc_window_display": false
  },
  "varInspector": {
   "cols": {
    "lenName": 16,
    "lenType": 16,
    "lenVar": 40
   },
   "kernels_config": {
    "python": {
     "delete_cmd_postfix": "",
     "delete_cmd_prefix": "del ",
     "library": "var_list.py",
     "varRefreshCmd": "print(var_dic_list())"
    },
    "r": {
     "delete_cmd_postfix": ") ",
     "delete_cmd_prefix": "rm(",
     "library": "var_list.r",
     "varRefreshCmd": "cat(var_dic_list()) "
    }
   },
   "types_to_exclude": [
    "module",
    "function",
    "builtin_function_or_method",
    "instance",
    "_Feature"
   ],
   "window_display": false
  }
 },
 "nbformat": 4,
 "nbformat_minor": 2
}
